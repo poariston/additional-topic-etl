{
 "cells": [
  {
   "cell_type": "markdown",
   "metadata": {},
   "source": [
    "\n",
    "March 24 2020\n",
    "## ETL\n",
    "It is more of a data engineering thing (rather than data science).  \n",
    "Converting raw data to the \"warehouse\"\n",
    "What i sthe process?\n",
    "What is the language?\n",
    "\n",
    "ETL = Extract Transform Load\n",
    "ETL vs ELT\n",
    "ELT is beoming more popular.\n",
    "We are not talking about ELT here"
   ]
  },
  {
   "cell_type": "markdown",
   "metadata": {},
   "source": [
    "Scenario.  \n",
    "ingesting data  \n",
    "    Client database (SQL in house)  \n",
    "    3rd party database (Maria DB - My SQL hdfs files (parquet) hadoop)  \n",
    "    API (Json files)  \n",
    "    API (XML files)  \n"
   ]
  },
  {
   "cell_type": "markdown",
   "metadata": {},
   "source": [
    "Databricks  \n",
    "Databricks is a good platform  \n",
    "databricks notebooks are like jupyter notebooks but better.\n",
    "Creators of Spark made databricks\n",
    "\n",
    "databricks is great because it now looks like a jupyter notebook\n",
    "\n",
    "databricks is more powerful than jupyter because you can in the same notebook write sql, then scala, then python ..."
   ]
  },
  {
   "cell_type": "code",
   "execution_count": 1,
   "metadata": {},
   "outputs": [
    {
     "name": "stderr",
     "output_type": "stream",
     "text": [
      "UsageError: Line magic function `%scala` not found.\n"
     ]
    }
   ],
   "source": [
    "%scala"
   ]
  },
  {
   "cell_type": "markdown",
   "metadata": {},
   "source": [
    "Cassandra is a noSQL database  \n"
   ]
  },
  {
   "cell_type": "code",
   "execution_count": 2,
   "metadata": {},
   "outputs": [
    {
     "ename": "NameError",
     "evalue": "name 'spark' is not defined",
     "output_type": "error",
     "traceback": [
      "\u001b[1;31m---------------------------------------------------------------------------\u001b[0m",
      "\u001b[1;31mNameError\u001b[0m                                 Traceback (most recent call last)",
      "\u001b[1;32m<ipython-input-2-3d0288b9a5ca>\u001b[0m in \u001b[0;36m<module>\u001b[1;34m\u001b[0m\n\u001b[1;32m----> 1\u001b[1;33m df1 = (spark.read\n\u001b[0m\u001b[0;32m      2\u001b[0m       \u001b[1;33m.\u001b[0m\u001b[0mcsv\u001b[0m\u001b[1;33m\u001b[0m\u001b[1;33m\u001b[0m\u001b[0m\n\u001b[0;32m      3\u001b[0m       \u001b[1;33m.\u001b[0m\u001b[0moptions\u001b[0m\u001b[1;33m(\u001b[0m\u001b[1;33m)\u001b[0m\u001b[1;33m\u001b[0m\u001b[1;33m\u001b[0m\u001b[0m\n\u001b[0;32m      4\u001b[0m       \u001b[1;33m.\u001b[0m\u001b[0moptions\u001b[0m\u001b[1;33m(\u001b[0m\u001b[1;33m)\u001b[0m\u001b[1;33m\u001b[0m\u001b[1;33m\u001b[0m\u001b[0m\n\u001b[0;32m      5\u001b[0m       .schema(schema))\n",
      "\u001b[1;31mNameError\u001b[0m: name 'spark' is not defined"
     ]
    }
   ],
   "source": [
    "df1 = (spark.read\n",
    "      .csv\n",
    "      .options()\n",
    "      .options()\n",
    "      .schema(schema))\n",
    "\n",
    "df1.write()"
   ]
  },
  {
   "cell_type": "code",
   "execution_count": 3,
   "metadata": {},
   "outputs": [
    {
     "ename": "NameError",
     "evalue": "name 'spark' is not defined",
     "output_type": "error",
     "traceback": [
      "\u001b[1;31m---------------------------------------------------------------------------\u001b[0m",
      "\u001b[1;31mNameError\u001b[0m                                 Traceback (most recent call last)",
      "\u001b[1;32m<ipython-input-3-11cc618cccfd>\u001b[0m in \u001b[0;36m<module>\u001b[1;34m\u001b[0m\n\u001b[1;32m----> 1\u001b[1;33m df2 = (spark.read\n\u001b[0m\u001b[0;32m      2\u001b[0m       .sql())\n\u001b[0;32m      3\u001b[0m \u001b[0mdf2\u001b[0m\u001b[1;33m.\u001b[0m\u001b[0mwrite\u001b[0m\u001b[1;33m(\u001b[0m\u001b[1;33m)\u001b[0m\u001b[1;33m\u001b[0m\u001b[1;33m\u001b[0m\u001b[0m\n",
      "\u001b[1;31mNameError\u001b[0m: name 'spark' is not defined"
     ]
    }
   ],
   "source": [
    "df2 = (spark.read\n",
    "      .sql())\n",
    "df2.write()"
   ]
  },
  {
   "cell_type": "markdown",
   "metadata": {},
   "source": [
    "people used to have to install spark   \n",
    "\n",
    "AWS, Databricks, Azure = platforms wher you can run spark  \n",
    "You need to learn how to write pyspark   (SUPER IMPORTANT)\n",
    "+ know when and why to repartition data is important   "
   ]
  },
  {
   "cell_type": "markdown",
   "metadata": {},
   "source": [
    "parquet file\n",
    " is the file format for hadoop \n",
    " hadoop enables to run jobs in parallel\n",
    " hadoop writes data in subdirectories"
   ]
  },
  {
   "cell_type": "markdown",
   "metadata": {},
   "source": [
    "SPark is covered in curriculum, not databricks, not parquet, not hadoop"
   ]
  },
  {
   "cell_type": "markdown",
   "metadata": {},
   "source": [
    "## databricks is worth learning!!\n"
   ]
  },
  {
   "cell_type": "markdown",
   "metadata": {},
   "source": [
    "in Databricks, YOu can write a full ETL job in a notebook environemnet and run it"
   ]
  },
  {
   "cell_type": "code",
   "execution_count": null,
   "metadata": {},
   "outputs": [],
   "source": []
  }
 ],
 "metadata": {
  "kernelspec": {
   "display_name": "Python [conda env:learn-env] *",
   "language": "python",
   "name": "conda-env-learn-env-py"
  },
  "language_info": {
   "codemirror_mode": {
    "name": "ipython",
    "version": 3
   },
   "file_extension": ".py",
   "mimetype": "text/x-python",
   "name": "python",
   "nbconvert_exporter": "python",
   "pygments_lexer": "ipython3",
   "version": "3.6.9"
  }
 },
 "nbformat": 4,
 "nbformat_minor": 2
}
